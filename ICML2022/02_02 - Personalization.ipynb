{
 "cells": [
  {
   "cell_type": "code",
   "execution_count": null,
   "id": "fb3a95a2",
   "metadata": {},
   "outputs": [],
   "source": [
    "# pip install ipympl"
   ]
  },
  {
   "cell_type": "code",
   "execution_count": null,
   "id": "a2fa3011",
   "metadata": {},
   "outputs": [],
   "source": [
    "from IPython.display import display, HTML, clear_output\n",
    "display(HTML(\"<style>table { width:80% !important; margin-left: 0 !important; font-size:15px !important;} table th, table td {text-align: left !important;}</style>\"))"
   ]
  },
  {
   "cell_type": "markdown",
   "id": "d53ff907",
   "metadata": {},
   "source": [
    "# Overview"
   ]
  },
  {
   "cell_type": "markdown",
   "id": "84ca519f",
   "metadata": {},
   "source": [
    "- Simulate the scenario of personalizing news content to users on a site, using CB. \n",
    "- The goal is to maximize user engagement quantified by measuring click through rate (CTR)."
   ]
  },
  {
   "cell_type": "markdown",
   "id": "b881dee1",
   "metadata": {},
   "source": [
    "## Scenario set up"
   ]
  },
  {
   "cell_type": "markdown",
   "id": "3e520d31",
   "metadata": {},
   "source": [
    "- Two website visitors: **Tom** and **Anna**\n",
    "- Each of them may visit the website either in the morning or in the afternoon"
   ]
  },
  {
   "cell_type": "markdown",
   "id": "1f6b09ae",
   "metadata": {},
   "source": [
    "## Import dependencies"
   ]
  },
  {
   "cell_type": "code",
   "execution_count": null,
   "id": "117eaf27",
   "metadata": {},
   "outputs": [],
   "source": [
    "from vowpalwabbit import Workspace\n",
    "import random\n",
    "import pandas as pd"
   ]
  },
  {
   "cell_type": "markdown",
   "id": "135f09d9",
   "metadata": {},
   "source": [
    "## Utils"
   ]
  },
  {
   "cell_type": "code",
   "execution_count": null,
   "id": "6976fa13",
   "metadata": {},
   "outputs": [],
   "source": [
    "%matplotlib widget\n",
    "\n",
    "def new_ax():\n",
    "    import matplotlib.pyplot as plt\n",
    "    \n",
    "    fig, (ax1, ax2) = plt.subplots(1, 2, figsize=(10, 4))\n",
    "    \n",
    "    ax1.set_xlabel(\"iterations\", fontsize=13)\n",
    "    ax1.set_ylabel(\"ctr\", fontsize=13)\n",
    "    ax1.set_ylim([0,1])\n",
    "    \n",
    "    ax2.set_xlabel(\"iterations\", fontsize=13)\n",
    "    ax2.set_ylabel(\"probs\", fontsize=13)\n",
    "    ax2.set_ylim([0,1])\n",
    "    \n",
    "    return fig, ax1, ax2\n",
    "\n",
    "def plot_ctr(ctr, tom_probs, anna_probs, do_learn=False, ax1=None, ax2=None):\n",
    "    import matplotlib.pyplot as plt\n",
    "\n",
    "    if ax1 is None or ax2 is None:\n",
    "        fig, ax1, ax2 = new_ax()\n",
    "\n",
    "    if do_learn:\n",
    "        ax1.plot(ctr, '#415ebf', label='with_learning')\n",
    "        ax2.plot(pd.Series(tom_probs).rolling(100).mean(), '#415ebf', label='Tom')\n",
    "        ax2.plot(pd.Series(anna_probs).rolling(100).mean(), '#ff3ab0', label='Anna')\n",
    "    else:\n",
    "        ax1.plot(ctr, '#ff3ab0', label='without_learning')\n",
    "        \n",
    "    ax1.legend(loc=\"upper right\")\n",
    "    ax2.legend(loc=\"upper right\")\n"
   ]
  },
  {
   "cell_type": "code",
   "execution_count": null,
   "id": "92be398a",
   "metadata": {},
   "outputs": [],
   "source": [
    " def build_vw_example(context, actions, chosen_action_index=None, reward=None, prob=None):\n",
    "    import numbers\n",
    "\n",
    "    assert chosen_action_index is not None or (reward is None and prob is None), (chosen_action_index, reward, prob)\n",
    "\n",
    "    exarray = []\n",
    "    exarray.append(f\"shared {str(context)}\") \n",
    "    for k, a in enumerate(actions):\n",
    "        label = ''\n",
    "        if chosen_action_index is not None:\n",
    "            if k == chosen_action_index:\n",
    "                assert isinstance(reward, numbers.Number), reward\n",
    "                cost = -reward\n",
    "                label += f\"0:{cost}:{prob}\"\n",
    "\n",
    "        exarray.append(f\"{label} {str(a)}\")\n",
    "\n",
    "    return '\\n'.join(exarray)"
   ]
  },
  {
   "cell_type": "code",
   "execution_count": null,
   "id": "5c50ee09",
   "metadata": {},
   "outputs": [],
   "source": [
    "class ExampleBuilder:\n",
    "    class Features:\n",
    "        def __init__(self, categorical={}, numerical={}):\n",
    "            self.categorical = categorical\n",
    "            self.numerical = numerical\n",
    "            \n",
    "        def __str__(self):\n",
    "            import numbers\n",
    "            reserved = set(':=|\\n ')\n",
    "            \n",
    "            exstr = \"\"\n",
    "            for key, value in self.categorical.items():\n",
    "                assert not any(c in reserved for c in key), key\n",
    "                assert not any(c in reserved for c in value), value\n",
    "                exstr += f\"{key}={value} \"\n",
    "            for key, value in self.numerical.items():\n",
    "                assert not any(c in reserved for c in key), key\n",
    "                assert isinstance(value, numbers.Number), value\n",
    "                exstr += f\"{key}:{value} \"                  \n",
    "            return exstr[:-1]\n",
    "            \n",
    "    def __init__(self, namespaces={}):\n",
    "        self.namespaces = namespaces\n",
    "    \n",
    "    def __str__(self):\n",
    "        reserved = set(':=|\\n ')\n",
    "        exstr = \"\"\n",
    "        for ns, feats in self.namespaces.items():\n",
    "            assert not any(c in reserved for c in ns), ns\n",
    "            exstr += f\"|{ns} {str(feats)}\"  \n",
    "        return exstr"
   ]
  },
  {
   "cell_type": "markdown",
   "id": "e684e4b6",
   "metadata": {},
   "source": [
    "### In CB settings, a data point consists of 4 components:\n",
    "- **Context:** `(user, time_of_day)`\n",
    "- **Actions:** `[\"politics\", \"sports\", \"music\", \"food\", \"finance\", \"health\", \"camping\"]`\n",
    "- **Probability of chosen action**\n",
    "- **Reward of chosen action:** `click - 1, no click - 0`"
   ]
  },
  {
   "cell_type": "markdown",
   "id": "c85ac23e",
   "metadata": {},
   "source": [
    "## Set up simulator\n",
    "\n",
    "- In the real world, we will have to learn Tom and Anna’s preferences for articles as we observe their interactions. Since this is a simulation, we will have to define Tom and Anna’s preference profile. The reward that we provide to the learner will follow this preference profile. Our hope is to see if the learner can take better and better decisions as we see more samples which in turn means we are maximizing the reward."
   ]
  },
  {
   "cell_type": "code",
   "execution_count": null,
   "id": "88d84ab1",
   "metadata": {},
   "outputs": [],
   "source": [
    "class Simulator:\n",
    "    def __init__(self, prefs={}, seed=888, n_bad_features=0):\n",
    "        import random\n",
    "\n",
    "        self.random = random.Random(seed)\n",
    "        self.users = ['Tom', 'Anna']\n",
    "        self.times_of_day = ['morning', 'afternoon']\n",
    "        self.articles = [\"politics\", \"sports\", \"music\", \"food\", \"finance\", \"health\", \"camping\"]\n",
    "        \n",
    "        self.actions = [\n",
    "            ExampleBuilder(\n",
    "                namespaces={\n",
    "                    'Action': ExampleBuilder.Features(\n",
    "                        categorical={'article': k},\n",
    "                        numerical={f'f{i}': self.random.random() for i in range(int(n_bad_features))}\n",
    "                    )\n",
    "                }\n",
    "            ) \n",
    "            for k in self.articles\n",
    "        ]\n",
    "        \n",
    "        self.prefs = prefs # Ground truth user preference\n",
    "\n",
    "    def _choose_user(self):\n",
    "        return self.random.choice(self.users)\n",
    "    \n",
    "    def _choose_time_of_day(self):\n",
    "        return self.random.choice(self.times_of_day)\n",
    "    \n",
    "    def get_reward(self, context, action_index):\n",
    "        user = context.namespaces['User'].categorical['user']\n",
    "        time_of_day = context.namespaces['User'].categorical['time_of_day']\n",
    "        return self.prefs[user][time_of_day] == self.articles[action_index]\n",
    "    \n",
    "    def sample_context(self):\n",
    "        return ExampleBuilder(\n",
    "            namespaces = { \n",
    "                'User': ExampleBuilder.Features(\n",
    "                    categorical = { 'user': self._choose_user(), 'time_of_day': self._choose_time_of_day() }\n",
    "                )\n",
    "            })\n",
    "    \n",
    "    def sample_instance(self):\n",
    "        return self.sample_context(), self.actions"
   ]
  },
  {
   "cell_type": "markdown",
   "id": "eb823a75",
   "metadata": {},
   "source": [
    "### VW example format"
   ]
  },
  {
   "cell_type": "code",
   "execution_count": null,
   "id": "5b10a285",
   "metadata": {},
   "outputs": [],
   "source": [
    "def show_vw_example(chosen_action_index=None, reward=None, prob=None):\n",
    "    sim = Simulator()\n",
    "    context, actions = sim.sample_instance()\n",
    "    return build_vw_example(context, actions, chosen_action_index, reward, prob)\n",
    "    \n",
    "print(show_vw_example())"
   ]
  },
  {
   "cell_type": "markdown",
   "id": "3cb11697",
   "metadata": {},
   "source": [
    "#### CB label format\n",
    "\n",
    "```\n",
    "<action>:<cost>:<probability>\n",
    "```"
   ]
  },
  {
   "cell_type": "code",
   "execution_count": null,
   "id": "3c8b5553",
   "metadata": {},
   "outputs": [],
   "source": [
    "print(show_vw_example(0, 1, 0.2))"
   ]
  },
  {
   "cell_type": "markdown",
   "id": "87cfd3b8",
   "metadata": {},
   "source": [
    "## Run simulator\n",
    "\n",
    "We will instantiate a CB learner in VW and then simulate Tom and Anna’s website visits **T** number of times. In each visit, we:\n",
    "\n",
    "- Decide between Tom and Anna\n",
    "\n",
    "- Decide time of day\n",
    "\n",
    "- Pass context i.e. (user, time of day) to learner to get action i.e. article recommendation and probability of choosing action\n",
    "\n",
    "- Receive reward i.e. see if user clicked or not. Remember that cost is just negative reward.\n",
    "\n",
    "- Format context, action, probability, reward in VW format\n",
    "\n",
    "- Learn from the example\n",
    "\n",
    "    -VW reduces a CB problem to a cost sensitive multiclass classification problem."
   ]
  },
  {
   "cell_type": "code",
   "execution_count": null,
   "id": "99c7c0ca",
   "metadata": {},
   "outputs": [],
   "source": [
    "def update_stats(context, articles, prefs, pred, tom_probs, anna_probs):\n",
    "    user = context.namespaces['User'].categorical['user']\n",
    "    time_of_day = context.namespaces['User'].categorical['time_of_day']\n",
    "\n",
    "    if user == 'Tom':\n",
    "        tom_probs.append(pred[articles.index(prefs[user][time_of_day])])\n",
    "    elif user == 'Anna':\n",
    "        anna_probs.append(pred[articles.index(prefs[user][time_of_day])])\n",
    "        "
   ]
  },
  {
   "cell_type": "code",
   "execution_count": null,
   "id": "64ae47b5",
   "metadata": {},
   "outputs": [],
   "source": [
    "def run_sim(pref_list, T=5000, seed=98678, do_learn=True, exploration='', n_bad_features=0, ax1=None, ax2=None, **kwargs):\n",
    "    import numpy as np\n",
    "    \n",
    "    vw = Workspace(arg_list=exploration.split(' '), **kwargs)\n",
    "\n",
    "    rstate = np.random.RandomState(seed=seed); seed += 1\n",
    "    \n",
    "    reward_sum = 0.0\n",
    "    ctr = []\n",
    "    \n",
    "    tom_probs = []\n",
    "    anna_probs = []\n",
    "\n",
    "    for batch_idx, prefs in enumerate(pref_list):\n",
    "        sim = Simulator(prefs, seed, n_bad_features)\n",
    "        \n",
    "        for i in range(1, T + 1):\n",
    "            context, actions = sim.sample_instance()\n",
    "            vw_predict_example = build_vw_example(context, actions)\n",
    "            \n",
    "            pred = vw.predict(vw_predict_example)\n",
    "            pred /= np.sum(pred) # normalize the predictions\n",
    "\n",
    "            update_stats(context, sim.articles, prefs, pred, tom_probs, anna_probs)\n",
    "            \n",
    "            # sample a chosen action (simulate online policy)\n",
    "            chosen_action = rstate.choice(len(actions), p=pred)\n",
    "\n",
    "            reward = sim.get_reward(context, chosen_action)\n",
    "\n",
    "            reward_sum += reward\n",
    "            \n",
    "            ctr.append(reward_sum / (batch_idx * T + i))\n",
    "            \n",
    "            if do_learn:\n",
    "                vw_learn_example = build_vw_example(context, actions, chosen_action, reward, pred[chosen_action])\n",
    "                vw.learn(vw_learn_example)\n",
    "    vw.finish()\n",
    "\n",
    "    plot_ctr(ctr, tom_probs, anna_probs, do_learn=do_learn, ax1=ax1, ax2=ax2)\n"
   ]
  },
  {
   "cell_type": "markdown",
   "id": "7fa52466",
   "metadata": {},
   "source": [
    "## Scenario 1 - User with stationary preference"
   ]
  },
  {
   "cell_type": "markdown",
   "id": "001102fb",
   "metadata": {},
   "source": [
    "|                |                Morning                |                Afternoon                |\n",
    "| :------------: | :-----------------------------------: | :-------------------------------------: |\n",
    "|   **Tom**      |                Politics               |                  Music                  |\n",
    "|  **Anna**      |                Sports                 |                 Politics                |"
   ]
  },
  {
   "cell_type": "code",
   "execution_count": null,
   "id": "15ef1b98",
   "metadata": {},
   "outputs": [],
   "source": [
    "def run_scenario_1(vw_args):\n",
    "    pref_list = [\n",
    "        {\n",
    "            'Tom': {\n",
    "                'morning': 'politics',\n",
    "                'afternoon': 'music'\n",
    "            },\n",
    "            'Anna': {\n",
    "                'morning': 'sports',\n",
    "                'afternoon': 'politics'\n",
    "            }\n",
    "        }\n",
    "    ]\n",
    "    \n",
    "    _, ax1, ax2 = new_ax()\n",
    "    run_sim(pref_list, ax1=ax1, ax2=ax2, **vw_args)\n",
    "    run_sim(pref_list, do_learn=False, ax1=ax1, ax2=ax2, **vw_args)"
   ]
  },
  {
   "cell_type": "code",
   "execution_count": null,
   "id": "67b64c7a",
   "metadata": {},
   "outputs": [],
   "source": [
    "vw_args = {\n",
    "    'cb_explore_adf': True,\n",
    "    'q': ['UA'],\n",
    "    'epsilon': 0.2,\n",
    "    'quiet': True\n",
    "}\n",
    "\n",
    "run_scenario_1(vw_args)"
   ]
  },
  {
   "cell_type": "markdown",
   "id": "1aff8dc1",
   "metadata": {},
   "source": [
    "### Interactions\n",
    "\n",
    "- `'q': ['UA']` is supplied in VW arguments\n",
    "- Tells VW to create additional features which are the features in the **(U)ser** namespace and **(A)ction** namespaces multiplied together\n",
    "-  This allows us to learn the interaction between when certain actions are good in certain times of days and for particular users"
   ]
  },
  {
   "cell_type": "code",
   "execution_count": null,
   "id": "830b023c",
   "metadata": {},
   "outputs": [],
   "source": [
    "vw_args = {\n",
    "    'cb_explore_adf': True,\n",
    "    'epsilon': 0.2,\n",
    "    'quiet': True\n",
    "}\n",
    "\n",
    "run_scenario_1(vw_args)"
   ]
  },
  {
   "cell_type": "markdown",
   "id": "ce5f788e",
   "metadata": {},
   "source": [
    "## Scenario 2 - User with non-stationary preference"
   ]
  },
  {
   "cell_type": "markdown",
   "id": "12077d70",
   "metadata": {},
   "source": [
    "### Tom\n",
    "\n",
    "|                Morning                |                Afternoon                |\n",
    "| :-----------------------------------: | :-------------------------------------: |\n",
    "|                Politics               |                  Music                  |\n",
    "|                Politics               |                  Sports                 |\n",
    "\n",
    "### Anna\n",
    "|                Morning                |                Afternoon                |\n",
    "| :-----------------------------------: | :-------------------------------------: |\n",
    "|                Sports                 |                Politics                 |\n",
    "|                Sports                 |                  Sports                 |"
   ]
  },
  {
   "cell_type": "code",
   "execution_count": null,
   "id": "d210c4e1",
   "metadata": {},
   "outputs": [],
   "source": [
    "def run_scenario_2(vw_args):\n",
    "    pref_list = [\n",
    "        {\n",
    "            'Tom': {\n",
    "                'morning': 'politics',\n",
    "                'afternoon': 'music'\n",
    "            },\n",
    "            'Anna': {\n",
    "                'morning': 'sports',\n",
    "                'afternoon': 'politics'\n",
    "            }\n",
    "        },\n",
    "        {\n",
    "            'Tom': {\n",
    "                'morning': 'politics',\n",
    "                'afternoon': 'sports'\n",
    "            },\n",
    "            'Anna': {\n",
    "                'morning': 'sports',\n",
    "                'afternoon': 'sports'\n",
    "            }\n",
    "        }\n",
    "    ]\n",
    "\n",
    "    _, ax1, ax2 = new_ax()\n",
    "    run_sim(pref_list, ax1=ax1, ax2=ax2, **vw_args)\n",
    "    run_sim(pref_list, do_learn=False, ax1=ax1, ax2=ax2, **vw_args)"
   ]
  },
  {
   "cell_type": "code",
   "execution_count": null,
   "id": "accccc25",
   "metadata": {},
   "outputs": [],
   "source": [
    "vw_args = {\n",
    "    'cb_explore_adf': True,\n",
    "    'q': ['UA'],\n",
    "    'epsilon': 0.2,\n",
    "    'quiet': True\n",
    "}\n",
    "\n",
    "run_scenario_2(vw_args)"
   ]
  },
  {
   "cell_type": "markdown",
   "id": "f1437fc3",
   "metadata": {},
   "source": [
    "## Scenario 3 - User likes new action"
   ]
  },
  {
   "cell_type": "markdown",
   "id": "38eb42cb",
   "metadata": {},
   "source": [
    "### Tom\n",
    "\n",
    "|                Morning                |                Afternoon                |\n",
    "| :-----------------------------------: | :-------------------------------------: |\n",
    "|                Politics               |                  Music                  |\n",
    "|                Politics               |                   Food                  |\n",
    "\n",
    "### Anna\n",
    "|                Morning                |                Afternoon                |\n",
    "| :-----------------------------------: | :-------------------------------------: |\n",
    "|                Sports                 |                Politics                 |\n",
    "|                 Food                  |                  Sports                 |"
   ]
  },
  {
   "cell_type": "code",
   "execution_count": null,
   "id": "22531176",
   "metadata": {},
   "outputs": [],
   "source": [
    "def run_scenario_3(vw_args):\n",
    "    pref_list = [\n",
    "        {\n",
    "            'Tom': {\n",
    "                'morning': 'politics',\n",
    "                'afternoon': 'music'\n",
    "            },\n",
    "            'Anna': {\n",
    "                'morning': 'sports',\n",
    "                'afternoon': 'politics'\n",
    "            }\n",
    "        },\n",
    "        {\n",
    "            'Tom': {\n",
    "                'morning': 'politics',\n",
    "                'afternoon': 'food'\n",
    "            },\n",
    "            'Anna': {\n",
    "                'morning': 'food',\n",
    "                'afternoon': 'sports'\n",
    "            }\n",
    "        }\n",
    "    ]\n",
    "    \n",
    "    _, ax1, ax2 = new_ax()\n",
    "    run_sim(pref_list, ax1=ax1, ax2=ax2, **vw_args)\n",
    "    run_sim(pref_list, do_learn=False, ax1=ax1, ax2=ax2, **vw_args)"
   ]
  },
  {
   "cell_type": "code",
   "execution_count": null,
   "id": "f3cb9490",
   "metadata": {},
   "outputs": [],
   "source": [
    "vw_args = {\n",
    "    'cb_explore_adf': True,\n",
    "    'q': ['UA'],\n",
    "    'epsilon': 0.2,\n",
    "    'quiet': True\n",
    "}\n",
    "run_scenario_3(vw_args)"
   ]
  },
  {
   "cell_type": "markdown",
   "id": "b7a3a7ad",
   "metadata": {},
   "source": [
    "### Try different VW args"
   ]
  },
  {
   "cell_type": "code",
   "execution_count": null,
   "id": "3cf7baa0",
   "metadata": {},
   "outputs": [],
   "source": [
    "import ipywidgets as widgets\n",
    "from ipywidgets import interact, interactive, fixed, interact_manual\n",
    "import numpy as np\n",
    "import matplotlib.pyplot as plt\n"
   ]
  },
  {
   "cell_type": "code",
   "execution_count": null,
   "id": "e4c00eee-cd70-4956-86bb-d68a17a5eca6",
   "metadata": {},
   "outputs": [],
   "source": [
    "def interact(pref_list, explorations=[], n_bad_features=[], **kwargs):\n",
    "    def _sim(pref_list, n_bad_features, fig, ax1, ax2, **kwargs):\n",
    "        ax1.clear()\n",
    "        ax2.clear()\n",
    "        \n",
    "        ax1.set_xlabel(\"iterations\", fontsize=13)\n",
    "        ax1.set_ylabel(\"ctr\", fontsize=13)\n",
    "        ax1.set_ylim([0, 1])\n",
    "        \n",
    "        ax2.set_xlabel(\"iterations\", fontsize=13)\n",
    "        ax2.set_ylabel(\"probs\", fontsize=13)\n",
    "        ax2.set_ylim([0, 1])\n",
    "        \n",
    "        run_sim(\n",
    "            pref_list,\n",
    "            n_bad_features=n_bad_features,\n",
    "            ax1=ax1,\n",
    "            ax2=ax2,\n",
    "            **kwargs\n",
    "        )\n",
    "        fig.canvas.draw_idle()\n",
    "        \n",
    "    fig, ax1, ax2 = new_ax()\n",
    "    out = widgets.interactive(_sim, pref_list=fixed(pref_list), n_bad_features=n_bad_features, fig=fixed(fig), ax1=fixed(ax1), ax2=fixed(ax2), \n",
    "                              exploration=explorations, **kwargs)\n",
    "\n",
    "    display(out)"
   ]
  },
  {
   "cell_type": "code",
   "execution_count": null,
   "id": "557bf3fa",
   "metadata": {},
   "outputs": [],
   "source": [
    "freegrad = widgets.Checkbox(value=False, description=\"freegrad\")\n",
    "coin = widgets.Checkbox(value=False, description=\"coin\")\n",
    "\n",
    "learning_rate = widgets.FloatLogSlider(value=0.05, min=-6, max=10, base=2, step=1, description='learning rate')\n",
    "\n",
    "l1 =  widgets.FloatLogSlider(value=2**(-20), min=-20, max=10, base=2, step=1)\n",
    "\n",
    "pref_list = [\n",
    "    {\n",
    "        'Tom': {\n",
    "            'morning': 'politics',\n",
    "            'afternoon': 'music'\n",
    "        },\n",
    "        'Anna': {\n",
    "            'morning': 'sports',\n",
    "            'afternoon': 'politics'\n",
    "        }\n",
    "    },\n",
    "    {\n",
    "        'Tom': {\n",
    "            'morning': 'politics',\n",
    "            'afternoon': 'food'\n",
    "        },\n",
    "        'Anna': {\n",
    "            'morning': 'food',\n",
    "            'afternoon': 'sports'\n",
    "        }\n",
    "    }\n",
    "]\n",
    "    \n",
    "interact(\n",
    "    pref_list=pref_list, T=fixed(5000), seed=fixed(98678), do_learn=fixed(True),\n",
    "    explorations=[\n",
    "        '--epsilon 0.2', \n",
    "        '--bag 3', \n",
    "        '--bag 3 --epsilon 0.05', \n",
    "        '--squarecb' , \n",
    "        '--squarecb --gamma_scale 0',\n",
    "    ],\n",
    "    n_bad_features=[0, 15, 20],\n",
    "    cb_explore_adf=fixed(True),\n",
    "    quiet=fixed(True),\n",
    "    q=['UA', '::'],\n",
    "    learning_rate=learning_rate,\n",
    "    freegrad=freegrad,\n",
    "    coin=coin,\n",
    "    l1=l1\n",
    ")"
   ]
  },
  {
   "cell_type": "code",
   "execution_count": null,
   "id": "241c1ec5",
   "metadata": {},
   "outputs": [],
   "source": [
    "# l1 - 15 bad feature, q::, learning_rate 4, l1 0.00000763\n",
    "# l1 - bag 3 + epsilon 0.05\n"
   ]
  }
 ],
 "metadata": {
  "kernelspec": {
   "display_name": "igl",
   "language": "python",
   "name": "igl"
  },
  "language_info": {
   "codemirror_mode": {
    "name": "ipython",
    "version": 3
   },
   "file_extension": ".py",
   "mimetype": "text/x-python",
   "name": "python",
   "nbconvert_exporter": "python",
   "pygments_lexer": "ipython3",
   "version": "3.8.10"
  }
 },
 "nbformat": 4,
 "nbformat_minor": 5
}
